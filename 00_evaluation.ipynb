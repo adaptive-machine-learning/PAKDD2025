{
 "cells": [
  {
   "cell_type": "code",
   "execution_count": null,
   "id": "99c30090",
   "metadata": {},
   "outputs": [],
   "source": [
    "# import random\n",
    "\n",
    "# from capymoa.ann import Perceptron\n",
    "# from capymoa.classifier import Finetune\n",
    "# from capymoa.ocl.datasets import SplitMNIST\n",
    "# from capymoa.ocl.evaluation import ocl_train_eval_loop\n",
    "# from matplotlib import pyplot as plt\n",
    "# from torch.optim import Adam\n",
    "# from torchvision.utils import make_grid\n",
    "\n",
    "# pt = 1 / 72.27\n",
    "# figsize_169 = (455 * pt, 256 * pt)\n",
    "# plt.rcParams[\"font.family\"] = \"sans-serif\"\n",
    "# plt.rcParams[\"font.sans-serif\"] = [\"Noto Sans\"]\n",
    "# plt.rcParams[\"font.size\"] = 9"
   ]
  },
  {
   "cell_type": "code",
   "execution_count": null,
   "id": "d21c6dbb",
   "metadata": {},
   "outputs": [],
   "source": [
    "# # Plot a figure of the SplitMNIST dataset\n",
    "# def grid_from_dataset(dataset, n=3):\n",
    "#     \"\"\"Create a grid of images from the dataset.\"\"\"\n",
    "#     images = []\n",
    "#     rng = random.Random(0)\n",
    "#     for i in range(n**2):\n",
    "#         img, label = dataset[rng.randrange(0, len(dataset))]\n",
    "#         images.append(img)\n",
    "#     grid = make_grid(images, nrow=n)\n",
    "#     return grid.permute(1, 2, 0).numpy()\n",
    "\n",
    "\n",
    "# scenario = SplitMNIST()\n",
    "# scenario.task_schedule\n",
    "\n",
    "# fig, ax = plt.subplots(1, len(scenario.task_schedule), figsize=figsize_169)\n",
    "\n",
    "# for i, task in enumerate(scenario.task_schedule):\n",
    "#     ax[i].imshow(grid_from_dataset(scenario.train_tasks[i]))\n",
    "#     ax[i].set_title(f\"Task {i + 1}\")\n",
    "#     ax[i].axis(\"off\")\n",
    "\n",
    "# fig.savefig(\"fig/splitmnist.pdf\", bbox_inches=\"tight\")"
   ]
  },
  {
   "cell_type": "markdown",
   "id": "e98644ec",
   "metadata": {},
   "source": [
    "# Continual Learning Evaluation Metrics"
   ]
  },
  {
   "cell_type": "code",
   "execution_count": null,
   "id": "a6546f7c",
   "metadata": {},
   "outputs": [],
   "source": [
    "# scenario = SplitMNIST()\n",
    "# model = Perceptron(scenario.schema)\n",
    "# learner = Finetune(\n",
    "#     scenario.schema,\n",
    "#     model,\n",
    "#     optimizer=Adam(model.parameters(), lr=0.001),\n",
    "#     device=\"cuda\",\n",
    "# )\n",
    "# results = ocl_train_eval_loop(\n",
    "#     learner, scenario.train_streams, scenario.test_streams, progress_bar=True\n",
    "# )"
   ]
  },
  {
   "cell_type": "code",
   "execution_count": null,
   "id": "5e47430e",
   "metadata": {},
   "outputs": [],
   "source": [
    "# from plot import plot_metrics\n",
    "\n",
    "# fig, ax = plt.subplots(\n",
    "#     figsize=(figsize_169[0] * 0.8, figsize_169[1] * 0.7), layout=\"constrained\"\n",
    "# )\n",
    "# plot_metrics(results, ax, acc_seen=True)\n",
    "# fig.savefig(\"fig/cl_eval_naive.pdf\")"
   ]
  },
  {
   "cell_type": "markdown",
   "id": "45f2b0ef",
   "metadata": {},
   "source": [
    "# Anytime Online Continual Learning Evaluation Metrics"
   ]
  },
  {
   "cell_type": "code",
   "execution_count": null,
   "id": "e6764f06",
   "metadata": {},
   "outputs": [],
   "source": [
    "# scenario = SplitMNIST()\n",
    "# model = Perceptron(scenario.schema)\n",
    "# learner = Finetune(\n",
    "#     scenario.schema,\n",
    "#     model,\n",
    "#     optimizer=Adam(model.parameters(), lr=0.001),\n",
    "#     device=\"cuda\",\n",
    "#     batch_size=128,\n",
    "# )\n",
    "# results = ocl_train_eval_loop(\n",
    "#     learner,\n",
    "#     scenario.train_streams,\n",
    "#     scenario.test_streams,\n",
    "#     progress_bar=True,\n",
    "#     continual_evaluations=10,\n",
    "# )"
   ]
  },
  {
   "cell_type": "code",
   "execution_count": null,
   "id": "bfe5fd96",
   "metadata": {},
   "outputs": [],
   "source": [
    "# fig, ax = plt.subplots()\n",
    "# plot_metrics(results, ax, task_acc=False, acc_seen=True, acc_all=True)"
   ]
  },
  {
   "cell_type": "markdown",
   "id": "bbbc19d8",
   "metadata": {},
   "source": [
    "# Online Accuracy"
   ]
  },
  {
   "cell_type": "code",
   "execution_count": null,
   "id": "a995ce17",
   "metadata": {},
   "outputs": [],
   "source": [
    "# fig, ax = plt.subplots(\n",
    "#     figsize=[figsize_169[0] * 1, figsize_169[1] * 0.5], layout=\"compressed\"\n",
    "# )\n",
    "\n",
    "# ys = results.ttt.metrics_per_window()[\"accuracy\"]\n",
    "# ax.plot(results.ttt_windowed_task_index, ys, label=\"Low LR\")\n",
    "\n",
    "# ax.set_ylabel(\"Test-Then-Train Accuracy\")\n",
    "# ax.set_xlabel(\"Task\")\n",
    "# ax.set_title(f\"Naive Finetuning on {scenario}\")\n",
    "# fig.savefig(\"fig/eval_ttt.pdf\")"
   ]
  }
 ],
 "metadata": {
  "kernelspec": {
   "display_name": "capymoa",
   "language": "python",
   "name": "python3"
  },
  "language_info": {
   "codemirror_mode": {
    "name": "ipython",
    "version": 3
   },
   "file_extension": ".py",
   "mimetype": "text/x-python",
   "name": "python",
   "nbconvert_exporter": "python",
   "pygments_lexer": "ipython3",
   "version": "3.12.8"
  }
 },
 "nbformat": 4,
 "nbformat_minor": 5
}
