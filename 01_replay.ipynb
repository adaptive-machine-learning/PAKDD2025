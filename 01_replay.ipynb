{
 "cells": [
  {
   "cell_type": "code",
   "execution_count": null,
   "id": "d09302f2",
   "metadata": {},
   "outputs": [],
   "source": [
    "from capymoa.ocl.evaluation import ocl_train_eval_loop\n",
    "from capymoa.ocl.datasets import SplitMNIST\n",
    "from capymoa.ann import Perceptron\n",
    "from capymoa.classifier import Finetune\n",
    "from capymoa.ocl.strategy import ExperienceReplay\n",
    "from matplotlib import pyplot as plt\n",
    "from torchvision.utils import make_grid\n",
    "from torch.optim import Adam\n",
    "import random\n",
    "\n",
    "pt = 1 / 72.27\n",
    "figsize_169 = (455 * pt, 256 * pt)\n",
    "plt.rcParams[\"font.family\"] = \"sans-serif\"\n",
    "plt.rcParams[\"font.sans-serif\"] = [\"Noto Sans\"]\n",
    "plt.rcParams[\"font.size\"] = 9"
   ]
  },
  {
   "cell_type": "code",
   "execution_count": null,
   "id": "fcdb3a25",
   "metadata": {},
   "outputs": [],
   "source": [
    "scenario = SplitMNIST()\n",
    "model = Perceptron(scenario.schema)\n",
    "learner = ExperienceReplay(\n",
    "    Finetune(\n",
    "        scenario.schema,\n",
    "        model,\n",
    "        optimizer=Adam(model.parameters(), lr=0.001),\n",
    "        device=\"cuda\",\n",
    "        batch_size=128,\n",
    "    ),\n",
    "    buffer_size=256,\n",
    ")\n",
    "results = ocl_train_eval_loop(\n",
    "    learner,\n",
    "    scenario.train_streams,\n",
    "    scenario.test_streams,\n",
    "    progress_bar=True,\n",
    "    continual_evaluations=2,\n",
    ")"
   ]
  },
  {
   "cell_type": "code",
   "execution_count": null,
   "id": "077d1fcf",
   "metadata": {},
   "outputs": [],
   "source": [
    "%load_ext autoreload\n",
    "%autoreload 2\n",
    "from plot import plot_metrics\n",
    "\n",
    "fig, ax = plt.subplots()\n",
    "plot_metrics(\n",
    "    results,\n",
    "    ax=ax,\n",
    "    # online_acc=True,\n",
    "    acc_all=True,\n",
    "    acc_seen=True,\n",
    ")"
   ]
  },
  {
   "cell_type": "code",
   "execution_count": null,
   "id": "fe4f1799",
   "metadata": {},
   "outputs": [],
   "source": [
    "results.accuracy_all_avg"
   ]
  }
 ],
 "metadata": {
  "kernelspec": {
   "display_name": "capymoa",
   "language": "python",
   "name": "python3"
  },
  "language_info": {
   "codemirror_mode": {
    "name": "ipython",
    "version": 3
   },
   "file_extension": ".py",
   "mimetype": "text/x-python",
   "name": "python",
   "nbconvert_exporter": "python",
   "pygments_lexer": "ipython3",
   "version": "3.12.8"
  }
 },
 "nbformat": 4,
 "nbformat_minor": 5
}
