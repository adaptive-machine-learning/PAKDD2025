{
 "cells": [
  {
   "cell_type": "markdown",
   "id": "3b0c9b04",
   "metadata": {},
   "source": [
    "# Greedy Gradient Based Sample Selection (GSSGreedy)\n",
    "\n",
    "We implement the greedy gradient based sample selection (GSSGreedy) method (Aljundi et al., 2019) for online continual learning.\n",
    "\n",
    "*  *Aljundi, Rahaf, Min Lin, Baptiste Goujaud, and Yoshua Bengio. “Gradient Based\n",
    "   Sample Selection for Online Continual Learning.” In Advances in Neural\n",
    "   Information Processing Systems 32: Annual Conference on Neural Information\n",
    "   Processing Systems 2019, NeurIPS 2019, December 8-14, 2019, Vancouver, BC,\n",
    "   Canada, edited by Hanna M. Wallach, Hugo Larochelle, Alina Beygelzimer,\n",
    "   Florence d’Alché-Buc, Emily B. Fox, and Roman Garnett, 11816–25, 2019.\n",
    "   https://proceedings.neurips.cc/paper/2019/hash/e562cd9c0768d5464b64cf61da7fc6bb-Abstract.html.*\n"
   ]
  },
  {
   "cell_type": "code",
   "execution_count": null,
   "id": "0a5d4121",
   "metadata": {},
   "outputs": [],
   "source": []
  }
 ],
 "metadata": {
  "language_info": {
   "name": "python"
  }
 },
 "nbformat": 4,
 "nbformat_minor": 5
}
