{
 "cells": [
  {
   "cell_type": "code",
   "execution_count": 1,
   "id": "bc813980",
   "metadata": {
    "execution": {
     "iopub.execute_input": "2025-06-09T11:44:18.493325Z",
     "iopub.status.busy": "2025-06-09T11:44:18.493001Z",
     "iopub.status.idle": "2025-06-09T11:44:20.274810Z",
     "shell.execute_reply": "2025-06-09T11:44:20.274302Z"
    }
   },
   "outputs": [],
   "source": [
    "# Setup\n",
    "import torch\n",
    "\n",
    "torch.manual_seed(0)\n",
    "device = torch.device(\"cuda\" if torch.cuda.is_available() else \"cpu\")\n",
    "batch_size = 64\n",
    "learning_rate = 0.001"
   ]
  },
  {
   "cell_type": "markdown",
   "id": "3ea772e2",
   "metadata": {},
   "source": [
    "# Online Continual Learning Evaluation\n",
    "\n",
    "In this notebook, you will be introduced to online continual learning and **catastrophic forgetting**.\n",
    "\n",
    "## Data Streams\n",
    "\n",
    "In this section, we introduce some built-in data streams that can be used for online continual learning evaluation. CapyMOA currently only has class/task incremental learning scenarios with disjoint tasks built-in.\n"
   ]
  },
  {
   "cell_type": "code",
   "execution_count": 2,
   "id": "b729986f",
   "metadata": {
    "execution": {
     "iopub.execute_input": "2025-06-09T11:44:20.277534Z",
     "iopub.status.busy": "2025-06-09T11:44:20.277130Z",
     "iopub.status.idle": "2025-06-09T11:44:24.857247Z",
     "shell.execute_reply": "2025-06-09T11:44:24.856753Z"
    }
   },
   "outputs": [
    {
     "name": "stdout",
     "output_type": "stream",
     "text": [
      "Task 0 classes: {1, 4}\n",
      "Task 1 classes: {5, 7}\n",
      "Task 2 classes: {9, 3}\n",
      "Task 3 classes: {0, 8}\n",
      "Task 4 classes: {2, 6}\n"
     ]
    }
   ],
   "source": [
    "from capymoa.ocl.datasets import SplitFashionMNIST\n",
    "\n",
    "scenario = SplitFashionMNIST()\n",
    "for task_id, task_classes in enumerate(scenario.task_schedule):\n",
    "    print(f\"Task {task_id} classes: {task_classes}\")"
   ]
  },
  {
   "cell_type": "markdown",
   "id": "bb93435d",
   "metadata": {},
   "source": [
    "You can access each task separately as a dataset or as a single stream."
   ]
  },
  {
   "cell_type": "code",
   "execution_count": 3,
   "id": "12bc5d71",
   "metadata": {
    "execution": {
     "iopub.execute_input": "2025-06-09T11:44:24.860050Z",
     "iopub.status.busy": "2025-06-09T11:44:24.859688Z",
     "iopub.status.idle": "2025-06-09T11:44:24.863078Z",
     "shell.execute_reply": "2025-06-09T11:44:24.862632Z"
    }
   },
   "outputs": [
    {
     "name": "stdout",
     "output_type": "stream",
     "text": [
      "[<torch.utils.data.dataset.Subset object at 0x74011c8da9f0>, <torch.utils.data.dataset.Subset object at 0x74011c8db4d0>, <torch.utils.data.dataset.Subset object at 0x74011c8db8c0>, <torch.utils.data.dataset.Subset object at 0x73fefd598590>, <torch.utils.data.dataset.Subset object at 0x73fefd59b710>]\n",
      "[<capymoa.ocl.datasets._PreloadedDataset object at 0x73fefd9e6450>, <capymoa.ocl.datasets._PreloadedDataset object at 0x73fefd53f260>, <capymoa.ocl.datasets._PreloadedDataset object at 0x73ff080c20f0>, <capymoa.ocl.datasets._PreloadedDataset object at 0x73fefd6c6990>, <capymoa.ocl.datasets._PreloadedDataset object at 0x74010b8f79e0>]\n",
      "<capymoa.stream.torch.TorchClassifyStream object at 0x73ff15566b70>\n"
     ]
    }
   ],
   "source": [
    "print(scenario.train_tasks)\n",
    "print(scenario.test_tasks)\n",
    "print(scenario.stream)"
   ]
  },
  {
   "cell_type": "markdown",
   "id": "739fbbb7",
   "metadata": {},
   "source": [
    "## Classifier\n",
    "\n",
    "In this section, we introduce the `BatchClassifier` classes, that all OCL methods inherit from. You can reuse any classifier for regular online learning as well."
   ]
  },
  {
   "cell_type": "code",
   "execution_count": 4,
   "id": "ee4e600a",
   "metadata": {
    "execution": {
     "iopub.execute_input": "2025-06-09T11:44:24.865578Z",
     "iopub.status.busy": "2025-06-09T11:44:24.865140Z",
     "iopub.status.idle": "2025-06-09T11:44:24.872470Z",
     "shell.execute_reply": "2025-06-09T11:44:24.871982Z"
    }
   },
   "outputs": [],
   "source": [
    "import torch\n",
    "from torch import nn\n",
    "from capymoa.base import BatchClassifier\n",
    "from capymoa.stream import Schema\n",
    "from torch.nn import functional as F\n",
    "\n",
    "class MyMLP(nn.Module):\n",
    "    def __init__(self, input_size: int, output_size: int):\n",
    "        super(MyMLP, self).__init__()\n",
    "        self.flatten = nn.Flatten()\n",
    "        self.dropout = nn.Dropout(0.5)\n",
    "        self.fc1 = nn.Linear(input_size, 128)\n",
    "        self.relu = nn.ReLU()\n",
    "        self.fc2 = nn.Linear(128, 64)\n",
    "        self.fc3 = nn.Linear(64, output_size)\n",
    "\n",
    "    def forward(self, x: torch.Tensor) -> torch.Tensor:\n",
    "        x = self.flatten(x)\n",
    "        x = self.dropout(x)\n",
    "        x = self.fc1(x)\n",
    "        x = self.relu(x)\n",
    "        x = self.fc2(x)\n",
    "        x = self.relu(x)\n",
    "        x = self.fc3(x)\n",
    "        return x\n",
    "\n",
    "class Finetune(BatchClassifier):\n",
    "    def __init__(self, schema: Schema, random_seed: int = 1):\n",
    "        super().__init__(schema, random_seed)\n",
    "        self.device = device\n",
    "        self.model = MyMLP(\n",
    "            input_size=schema.get_num_attributes(),\n",
    "            output_size=schema.get_num_classes()\n",
    "        ).to(device)\n",
    "        self.optimizer = torch.optim.Adam(self.model.parameters(), lr=learning_rate)\n",
    "\n",
    "    def batch_train(self, x: torch.Tensor, y: torch.Tensor) -> None:\n",
    "        self.model.train()\n",
    "        self.optimizer.zero_grad()\n",
    "        output = self.model(x)\n",
    "        loss = F.cross_entropy(output, y)\n",
    "        loss.backward()\n",
    "        self.optimizer.step()\n",
    "\n",
    "    def batch_predict_proba(self, x: torch.Tensor) -> torch.Tensor:\n",
    "        self.model.eval()\n",
    "        with torch.no_grad():\n",
    "            output = self.model(x)\n",
    "            return F.softmax(output, dim=1)"
   ]
  },
  {
   "cell_type": "markdown",
   "id": "2a14efda",
   "metadata": {},
   "source": [
    "## Evaluation\n",
    "\n",
    "### Online Evaluation\n",
    "\n",
    "![online evaluation schematic](img/01_ocl_compared.png)"
   ]
  },
  {
   "cell_type": "code",
   "execution_count": 5,
   "id": "5ca1c446",
   "metadata": {
    "execution": {
     "iopub.execute_input": "2025-06-09T11:44:24.874996Z",
     "iopub.status.busy": "2025-06-09T11:44:24.874684Z",
     "iopub.status.idle": "2025-06-09T11:44:39.371802Z",
     "shell.execute_reply": "2025-06-09T11:44:39.371320Z"
    }
   },
   "outputs": [
    {
     "data": {
      "image/png": "[encoded data removed]",
      "text/plain": [
       "<Figure size 1200x500 with 1 Axes>"
      ]
     },
     "metadata": {},
     "output_type": "display_data"
    }
   ],
   "source": [
    "from capymoa.evaluation import prequential_evaluation\n",
    "from capymoa.evaluation.visualization import plot_windowed_results\n",
    "\n",
    "results = prequential_evaluation(\n",
    "    scenario.stream, Finetune(scenario.schema), batch_size=batch_size\n",
    ")\n",
    "plot_windowed_results(\n",
    "    results,\n",
    "    metric=\"accuracy\",\n",
    "    plot_title=f\"Online Evaluation of MLP on {scenario}\",\n",
    "    save_only=False,\n",
    ")"
   ]
  },
  {
   "cell_type": "markdown",
   "id": "e107714a",
   "metadata": {},
   "source": [
    "### OCL Evaluation\n",
    "\n",
    "![continual learning evaluation schematic](img/03_ocl_compared.png)\n",
    "\n"
   ]
  },
  {
   "cell_type": "code",
   "execution_count": 6,
   "id": "95e589d4",
   "metadata": {
    "execution": {
     "iopub.execute_input": "2025-06-09T11:44:39.374267Z",
     "iopub.status.busy": "2025-06-09T11:44:39.373779Z",
     "iopub.status.idle": "2025-06-09T11:44:52.568700Z",
     "shell.execute_reply": "2025-06-09T11:44:52.568216Z"
    }
   },
   "outputs": [
    {
     "data": {
      "application/vnd.jupyter.widget-view+json": {
       "model_id": "9d9525a2804d48f9a8cca74819dc2d88",
       "version_major": 2,
       "version_minor": 0
      },
      "text/plain": [
       "Train & Eval:   0%|          | 0/1140 [00:00<?, ?it/s]"
      ]
     },
     "metadata": {},
     "output_type": "display_data"
    },
    {
     "data": {
      "image/png": "[encoded data removed]",
      "text/plain": [
       "<Figure size 629.584x283.313 with 1 Axes>"
      ]
     },
     "metadata": {},
     "output_type": "display_data"
    }
   ],
   "source": [
    "from capymoa.ocl.evaluation import ocl_train_eval_loop\n",
    "from plot import ocl_plot\n",
    "\n",
    "result = ocl_train_eval_loop(\n",
    "    Finetune(scenario.schema),\n",
    "    scenario.train_loaders(batch_size),\n",
    "    scenario.test_loaders(256),\n",
    "    progress_bar=True,\n",
    ")\n",
    "fig, ax = ocl_plot(result, acc_seen=True)\n",
    "ax.set_title(f\"MLP on {scenario}\")\n",
    "pass"
   ]
  },
  {
   "cell_type": "markdown",
   "id": "e868bac9",
   "metadata": {},
   "source": [
    "Catastrophic forgetting is very severe!"
   ]
  },
  {
   "cell_type": "markdown",
   "id": "b9ca077f",
   "metadata": {},
   "source": [
    "### Anytime OCL Evaluation\n"
   ]
  },
  {
   "cell_type": "code",
   "execution_count": 7,
   "id": "d78203a5",
   "metadata": {
    "execution": {
     "iopub.execute_input": "2025-06-09T11:44:52.571029Z",
     "iopub.status.busy": "2025-06-09T11:44:52.570789Z",
     "iopub.status.idle": "2025-06-09T11:45:25.223741Z",
     "shell.execute_reply": "2025-06-09T11:45:25.223267Z"
    }
   },
   "outputs": [
    {
     "data": {
      "application/vnd.jupyter.widget-view+json": {
       "model_id": "274b078add954afd88f6c3757b7ad334",
       "version_major": 2,
       "version_minor": 0
      },
      "text/plain": [
       "Train & Eval:   0%|          | 0/2940 [00:00<?, ?it/s]"
      ]
     },
     "metadata": {},
     "output_type": "display_data"
    },
    {
     "data": {
      "image/png": "[encoded data removed]",
      "text/plain": [
       "<Figure size 629.584x283.313 with 1 Axes>"
      ]
     },
     "metadata": {},
     "output_type": "display_data"
    }
   ],
   "source": [
    "result = ocl_train_eval_loop(\n",
    "    Finetune(scenario.schema),\n",
    "    scenario.train_loaders(batch_size),\n",
    "    scenario.test_loaders(256),\n",
    "    continual_evaluations=10,\n",
    "    progress_bar=True,\n",
    ")\n",
    "fig, ax = ocl_plot(result, acc_seen=True)\n",
    "ax.set_title(f\"MLP on {scenario}\")\n",
    "pass"
   ]
  },
  {
   "cell_type": "markdown",
   "id": "8eb15e74",
   "metadata": {},
   "source": [
    "### Forward and Backwards Transfer"
   ]
  },
  {
   "cell_type": "code",
   "execution_count": 8,
   "id": "1d3f166d",
   "metadata": {
    "execution": {
     "iopub.execute_input": "2025-06-09T11:45:25.225957Z",
     "iopub.status.busy": "2025-06-09T11:45:25.225723Z",
     "iopub.status.idle": "2025-06-09T11:45:25.228880Z",
     "shell.execute_reply": "2025-06-09T11:45:25.228443Z"
    }
   },
   "outputs": [
    {
     "name": "stdout",
     "output_type": "stream",
     "text": [
      "Forward Transfer:  0.0\n",
      "Backward Transfer: -97.6\n"
     ]
    }
   ],
   "source": [
    "print(f\"Forward Transfer:  {result.forward_transfer * 100:.1f}\")\n",
    "print(f\"Backward Transfer: {result.backward_transfer * 100:.1f}\")"
   ]
  },
  {
   "cell_type": "markdown",
   "id": "e9c1304c",
   "metadata": {},
   "source": [
    "## Online Task Incremental Learning\n",
    "\n",
    "We support task incremental learners by inheriting from `TestTaskAware`. The evaluation function will call `on_test_task` for each task in the stream. Likewise for `TrainTaskAware`. Generally being `TrainTaskAware` is more realistic than being `TestTaskAware`.\n"
   ]
  },
  {
   "cell_type": "code",
   "execution_count": 9,
   "id": "7646e329",
   "metadata": {
    "execution": {
     "iopub.execute_input": "2025-06-09T11:45:25.231047Z",
     "iopub.status.busy": "2025-06-09T11:45:25.230698Z",
     "iopub.status.idle": "2025-06-09T11:45:25.236128Z",
     "shell.execute_reply": "2025-06-09T11:45:25.235690Z"
    }
   },
   "outputs": [],
   "source": [
    "from capymoa.ocl.base import TestTaskAware, TrainTaskAware\n",
    "from torch import Tensor\n",
    "\n",
    "\n",
    "class TIFinetune(BatchClassifier, TrainTaskAware, TestTaskAware):\n",
    "    def __init__(self, schema: Schema, task_mask: Tensor, random_seed: int = 1):\n",
    "        super().__init__(schema, random_seed)\n",
    "        self.device = device\n",
    "        self.model = MyMLP(\n",
    "            input_size=schema.get_num_attributes(),\n",
    "            output_size=schema.get_num_classes()\n",
    "        ).to(device)\n",
    "        self.task_mask = task_mask.to(device)\n",
    "        self.optimizer = torch.optim.Adam(self.model.parameters(), lr=learning_rate)\n",
    "        self.task_id = 0\n",
    "\n",
    "    # NEW:\n",
    "    def on_train_task(self, task_id: int):\n",
    "        self.task_id = task_id\n",
    "\n",
    "    # NEW:\n",
    "    def on_test_task(self, task_id: int):\n",
    "        self.task_id = task_id\n",
    "\n",
    "    def batch_train(self, x: torch.Tensor, y: torch.Tensor) -> None:\n",
    "        self.model.train()\n",
    "        self.optimizer.zero_grad()\n",
    "        output = self.task_mask[self.task_id] * self.model.forward(x)\n",
    "        loss = F.cross_entropy(output, y)\n",
    "        loss.backward()\n",
    "        self.optimizer.step()\n",
    "\n",
    "    def batch_predict_proba(self, x: torch.Tensor) -> torch.Tensor:\n",
    "        self.model.eval()\n",
    "        with torch.no_grad():\n",
    "            output = self.task_mask[self.task_id] * self.model.forward(x)\n",
    "            return F.softmax(output, dim=1)"
   ]
  },
  {
   "cell_type": "code",
   "execution_count": 10,
   "id": "20553166",
   "metadata": {
    "execution": {
     "iopub.execute_input": "2025-06-09T11:45:25.238156Z",
     "iopub.status.busy": "2025-06-09T11:45:25.237866Z",
     "iopub.status.idle": "2025-06-09T11:45:38.280236Z",
     "shell.execute_reply": "2025-06-09T11:45:38.279788Z"
    }
   },
   "outputs": [
    {
     "data": {
      "application/vnd.jupyter.widget-view+json": {
       "model_id": "99b83b76530244458d710b5e69e90667",
       "version_major": 2,
       "version_minor": 0
      },
      "text/plain": [
       "Train & Eval:   0%|          | 0/1140 [00:00<?, ?it/s]"
      ]
     },
     "metadata": {},
     "output_type": "display_data"
    },
    {
     "data": {
      "image/png": "[encoded data removed]",
      "text/plain": [
       "<Figure size 629.584x283.313 with 1 Axes>"
      ]
     },
     "metadata": {},
     "output_type": "display_data"
    }
   ],
   "source": [
    "from capymoa.ocl.util.data import class_schedule_to_task_mask\n",
    "\n",
    "task_mask = class_schedule_to_task_mask(scenario.task_schedule, scenario.num_classes)\n",
    "result = ocl_train_eval_loop(\n",
    "    TIFinetune(scenario.schema, task_mask, 5),\n",
    "    scenario.train_loaders(batch_size),\n",
    "    scenario.test_loaders(256),\n",
    "    progress_bar=True,\n",
    ")\n",
    "fig, ax = ocl_plot(\n",
    "    result,\n",
    "    acc_seen=True,\n",
    ")\n",
    "ax.set_title(f\"Multi-Head MLP On {scenario}\")\n",
    "pass"
   ]
  }
 ],
 "metadata": {
  "kernelspec": {
   "display_name": "PAKDD2025",
   "language": "python",
   "name": "python3"
  },
  "language_info": {
   "codemirror_mode": {
    "name": "ipython",
    "version": 3
   },
   "file_extension": ".py",
   "mimetype": "text/x-python",
   "name": "python",
   "nbconvert_exporter": "python",
   "pygments_lexer": "ipython3",
   "version": "3.12.9"
  },
  "widgets": {
   "application/vnd.jupyter.widget-state+json": {
    "state": {
     "0679a4fbf27c4361a96a07b86cf321fe": {
      "model_module": "@jupyter-widgets/controls",
      "model_module_version": "2.0.0",
      "model_name": "FloatProgressModel",
      "state": {
       "_dom_classes": [],
       "_model_module": "@jupyter-widgets/controls",
       "_model_module_version": "2.0.0",
       "_model_name": "FloatProgressModel",
       "_view_count": null,
       "_view_module": "@jupyter-widgets/controls",
       "_view_module_version": "2.0.0",
       "_view_name": "ProgressView",
       "bar_style": "success",
       "description": "",
       "description_allow_html": false,
       "layout": "IPY_MODEL_5efb73ecb0144b7d91e9f17f5337ebd6",
       "max": 2940,
       "min": 0,
       "orientation": "horizontal",
       "style": "IPY_MODEL_f43e32d61ac7439cb363bb09cd69ebe2",
       "tabbable": null,
       "tooltip": null,
       "value": 2940
      }
     },
     "090af42153da43b3b12253505398e589": {
      "model_module": "@jupyter-widgets/base",
      "model_module_version": "2.0.0",
      "model_name": "LayoutModel",
      "state": {
       "_model_module": "@jupyter-widgets/base",
       "_model_module_version": "2.0.0",
       "_model_name": "LayoutModel",
       "_view_count": null,
       "_view_module": "@jupyter-widgets/base",
       "_view_module_version": "2.0.0",
       "_view_name": "LayoutView",
       "align_content": null,
       "align_items": null,
       "align_self": null,
       "border_bottom": null,
       "border_left": null,
       "border_right": null,
       "border_top": null,
       "bottom": null,
       "display": null,
       "flex": null,
       "flex_flow": null,
       "grid_area": null,
       "grid_auto_columns": null,
       "grid_auto_flow": null,
       "grid_auto_rows": null,
       "grid_column": null,
       "grid_gap": null,
       "grid_row": null,
       "grid_template_areas": null,
       "grid_template_columns": null,
       "grid_template_rows": null,
       "height": null,
       "justify_content": null,
       "justify_items": null,
       "left": null,
       "margin": null,
       "max_height": null,
       "max_width": null,
       "min_height": null,
       "min_width": null,
       "object_fit": null,
       "object_position": null,
       "order": null,
       "overflow": null,
       "padding": null,
       "right": null,
       "top": null,
       "visibility": null,
       "width": null
      }
     },
     "0bbbe4da34e147dfa481f7d824e3e6fa": {
      "model_module": "@jupyter-widgets/base",
      "model_module_version": "2.0.0",
      "model_name": "LayoutModel",
      "state": {
       "_model_module": "@jupyter-widgets/base",
       "_model_module_version": "2.0.0",
       "_model_name": "LayoutModel",
       "_view_count": null,
       "_view_module": "@jupyter-widgets/base",
       "_view_module_version": "2.0.0",
       "_view_name": "LayoutView",
       "align_content": null,
       "align_items": null,
       "align_self": null,
       "border_bottom": null,
       "border_left": null,
       "border_right": null,
       "border_top": null,
       "bottom": null,
       "display": null,
       "flex": null,
       "flex_flow": null,
       "grid_area": null,
       "grid_auto_columns": null,
       "grid_auto_flow": null,
       "grid_auto_rows": null,
       "grid_column": null,
       "grid_gap": null,
       "grid_row": null,
       "grid_template_areas": null,
       "grid_template_columns": null,
       "grid_template_rows": null,
       "height": null,
       "justify_content": null,
       "justify_items": null,
       "left": null,
       "margin": null,
       "max_height": null,
       "max_width": null,
       "min_height": null,
       "min_width": null,
       "object_fit": null,
       "object_position": null,
       "order": null,
       "overflow": null,
       "padding": null,
       "right": null,
       "top": null,
       "visibility": null,
       "width": null
      }
     },
     "0dc1fc22076e432f852c4f401ee5c367": {
      "model_module": "@jupyter-widgets/controls",
      "model_module_version": "2.0.0",
      "model_name": "HTMLModel",
      "state": {
       "_dom_classes": [],
       "_model_module": "@jupyter-widgets/controls",
       "_model_module_version": "2.0.0",
       "_model_name": "HTMLModel",
       "_view_count": null,
       "_view_module": "@jupyter-widgets/controls",
       "_view_module_version": "2.0.0",
       "_view_name": "HTMLView",
       "description": "",
       "description_allow_html": false,
       "layout": "IPY_MODEL_860a5734568146d28b8598867a567515",
       "placeholder": "​",
       "style": "IPY_MODEL_253de6c499e74805ac9ddb36f4479d2c",
       "tabbable": null,
       "tooltip": null,
       "value": "Train &amp; Eval:  99%"
      }
     },
     "16a8d1345e9d48d2b3013cabf638b308": {
      "model_module": "@jupyter-widgets/controls",
      "model_module_version": "2.0.0",
      "model_name": "HTMLModel",
      "state": {
       "_dom_classes": [],
       "_model_module": "@jupyter-widgets/controls",
       "_model_module_version": "2.0.0",
       "_model_name": "HTMLModel",
       "_view_count": null,
       "_view_module": "@jupyter-widgets/controls",
       "_view_module_version": "2.0.0",
       "_view_name": "HTMLView",
       "description": "",
       "description_allow_html": false,
       "layout": "IPY_MODEL_b18d0634dd054e69b5889c5b580c58e7",
       "placeholder": "​",
       "style": "IPY_MODEL_52d200c26ecb4d69a6fba1a97f25e901",
       "tabbable": null,
       "tooltip": null,
       "value": "Train &amp; Eval: 100%"
      }
     },
     "181f4d932fd54163875c7d33b83c9fca": {
      "model_module": "@jupyter-widgets/controls",
      "model_module_version": "2.0.0",
      "model_name": "HTMLModel",
      "state": {
       "_dom_classes": [],
       "_model_module": "@jupyter-widgets/controls",
       "_model_module_version": "2.0.0",
       "_model_name": "HTMLModel",
       "_view_count": null,
       "_view_module": "@jupyter-widgets/controls",
       "_view_module_version": "2.0.0",
       "_view_name": "HTMLView",
       "description": "",
       "description_allow_html": false,
       "layout": "IPY_MODEL_a197a097007b4de680c31ee8d24e50fe",
       "placeholder": "​",
       "style": "IPY_MODEL_60c3ac88b1ff4ee9af9a71e900e7de1d",
       "tabbable": null,
       "tooltip": null,
       "value": " 1140/1140 [00:27&lt;00:00, 90.71it/s]"
      }
     },
     "20f0722af24a4bbfaed845a1ca3aff35": {
      "model_module": "@jupyter-widgets/controls",
      "model_module_version": "2.0.0",
      "model_name": "HTMLStyleModel",
      "state": {
       "_model_module": "@jupyter-widgets/controls",
       "_model_module_version": "2.0.0",
       "_model_name": "HTMLStyleModel",
       "_view_count": null,
       "_view_module": "@jupyter-widgets/base",
       "_view_module_version": "2.0.0",
       "_view_name": "StyleView",
       "background": null,
       "description_width": "",
       "font_size": null,
       "text_color": null
      }
     },
     "220a99923bd54febb987c872a5a1c476": {
      "model_module": "@jupyter-widgets/base",
      "model_module_version": "2.0.0",
      "model_name": "LayoutModel",
      "state": {
       "_model_module": "@jupyter-widgets/base",
       "_model_module_version": "2.0.0",
       "_model_name": "LayoutModel",
       "_view_count": null,
       "_view_module": "@jupyter-widgets/base",
       "_view_module_version": "2.0.0",
       "_view_name": "LayoutView",
       "align_content": null,
       "align_items": null,
       "align_self": null,
       "border_bottom": null,
       "border_left": null,
       "border_right": null,
       "border_top": null,
       "bottom": null,
       "display": null,
       "flex": null,
       "flex_flow": null,
       "grid_area": null,
       "grid_auto_columns": null,
       "grid_auto_flow": null,
       "grid_auto_rows": null,
       "grid_column": null,
       "grid_gap": null,
       "grid_row": null,
       "grid_template_areas": null,
       "grid_template_columns": null,
       "grid_template_rows": null,
       "height": null,
       "justify_content": null,
       "justify_items": null,
       "left": null,
       "margin": null,
       "max_height": null,
       "max_width": null,
       "min_height": null,
       "min_width": null,
       "object_fit": null,
       "object_position": null,
       "order": null,
       "overflow": null,
       "padding": null,
       "right": null,
       "top": null,
       "visibility": null,
       "width": null
      }
     },
     "253de6c499e74805ac9ddb36f4479d2c": {
      "model_module": "@jupyter-widgets/controls",
      "model_module_version": "2.0.0",
      "model_name": "HTMLStyleModel",
      "state": {
       "_model_module": "@jupyter-widgets/controls",
       "_model_module_version": "2.0.0",
       "_model_name": "HTMLStyleModel",
       "_view_count": null,
       "_view_module": "@jupyter-widgets/base",
       "_view_module_version": "2.0.0",
       "_view_name": "StyleView",
       "background": null,
       "description_width": "",
       "font_size": null,
       "text_color": null
      }
     },
     "2562d133c1d5402281b3ace4ae9fd723": {
      "model_module": "@jupyter-widgets/controls",
      "model_module_version": "2.0.0",
      "model_name": "HBoxModel",
      "state": {
       "_dom_classes": [],
       "_model_module": "@jupyter-widgets/controls",
       "_model_module_version": "2.0.0",
       "_model_name": "HBoxModel",
       "_view_count": null,
       "_view_module": "@jupyter-widgets/controls",
       "_view_module_version": "2.0.0",
       "_view_name": "HBoxView",
       "box_style": "",
       "children": [
        "IPY_MODEL_0dc1fc22076e432f852c4f401ee5c367",
        "IPY_MODEL_4d2ccecb034c4b419e3594fd7acbdb74",
        "IPY_MODEL_f4ca4cfa9ad94acdbdc4cc2a27f7b2f6"
       ],
       "layout": "IPY_MODEL_0bbbe4da34e147dfa481f7d824e3e6fa",
       "tabbable": null,
       "tooltip": null
      }
     },
     "398c6d4f3a52460bb8841c24d7e9c370": {
      "model_module": "@jupyter-widgets/controls",
      "model_module_version": "2.0.0",
      "model_name": "HTMLModel",
      "state": {
       "_dom_classes": [],
       "_model_module": "@jupyter-widgets/controls",
       "_model_module_version": "2.0.0",
       "_model_name": "HTMLModel",
       "_view_count": null,
       "_view_module": "@jupyter-widgets/controls",
       "_view_module_version": "2.0.0",
       "_view_name": "HTMLView",
       "description": "",
       "description_allow_html": false,
       "layout": "IPY_MODEL_090af42153da43b3b12253505398e589",
       "placeholder": "​",
       "style": "IPY_MODEL_6e698217187b4d7e9ea1e627571a8454",
       "tabbable": null,
       "tooltip": null,
       "value": "Train &amp; Eval: 100%"
      }
     },
     "4066f4849eac4ee996bdb66f9b378db9": {
      "model_module": "@jupyter-widgets/base",
      "model_module_version": "2.0.0",
      "model_name": "LayoutModel",
      "state": {
       "_model_module": "@jupyter-widgets/base",
       "_model_module_version": "2.0.0",
       "_model_name": "LayoutModel",
       "_view_count": null,
       "_view_module": "@jupyter-widgets/base",
       "_view_module_version": "2.0.0",
       "_view_name": "LayoutView",
       "align_content": null,
       "align_items": null,
       "align_self": null,
       "border_bottom": null,
       "border_left": null,
       "border_right": null,
       "border_top": null,
       "bottom": null,
       "display": null,
       "flex": null,
       "flex_flow": null,
       "grid_area": null,
       "grid_auto_columns": null,
       "grid_auto_flow": null,
       "grid_auto_rows": null,
       "grid_column": null,
       "grid_gap": null,
       "grid_row": null,
       "grid_template_areas": null,
       "grid_template_columns": null,
       "grid_template_rows": null,
       "height": null,
       "justify_content": null,
       "justify_items": null,
       "left": null,
       "margin": null,
       "max_height": null,
       "max_width": null,
       "min_height": null,
       "min_width": null,
       "object_fit": null,
       "object_position": null,
       "order": null,
       "overflow": null,
       "padding": null,
       "right": null,
       "top": null,
       "visibility": null,
       "width": null
      }
     },
     "49d323aae0454a33a7b1a792f5ba6a93": {
      "model_module": "@jupyter-widgets/base",
      "model_module_version": "2.0.0",
      "model_name": "LayoutModel",
      "state": {
       "_model_module": "@jupyter-widgets/base",
       "_model_module_version": "2.0.0",
       "_model_name": "LayoutModel",
       "_view_count": null,
       "_view_module": "@jupyter-widgets/base",
       "_view_module_version": "2.0.0",
       "_view_name": "LayoutView",
       "align_content": null,
       "align_items": null,
       "align_self": null,
       "border_bottom": null,
       "border_left": null,
       "border_right": null,
       "border_top": null,
       "bottom": null,
       "display": null,
       "flex": null,
       "flex_flow": null,
       "grid_area": null,
       "grid_auto_columns": null,
       "grid_auto_flow": null,
       "grid_auto_rows": null,
       "grid_column": null,
       "grid_gap": null,
       "grid_row": null,
       "grid_template_areas": null,
       "grid_template_columns": null,
       "grid_template_rows": null,
       "height": null,
       "justify_content": null,
       "justify_items": null,
       "left": null,
       "margin": null,
       "max_height": null,
       "max_width": null,
       "min_height": null,
       "min_width": null,
       "object_fit": null,
       "object_position": null,
       "order": null,
       "overflow": null,
       "padding": null,
       "right": null,
       "top": null,
       "visibility": null,
       "width": null
      }
     },
     "4d2ccecb034c4b419e3594fd7acbdb74": {
      "model_module": "@jupyter-widgets/controls",
      "model_module_version": "2.0.0",
      "model_name": "FloatProgressModel",
      "state": {
       "_dom_classes": [],
       "_model_module": "@jupyter-widgets/controls",
       "_model_module_version": "2.0.0",
       "_model_name": "FloatProgressModel",
       "_view_count": null,
       "_view_module": "@jupyter-widgets/controls",
       "_view_module_version": "2.0.0",
       "_view_name": "ProgressView",
       "bar_style": "",
       "description": "",
       "description_allow_html": false,
       "layout": "IPY_MODEL_b1d5e4abd776443098fbb6548c64f555",
       "max": 1140,
       "min": 0,
       "orientation": "horizontal",
       "style": "IPY_MODEL_82f36e594e0947c59381d3be6797bf7a",
       "tabbable": null,
       "tooltip": null,
       "value": 1133
      }
     },
     "52d200c26ecb4d69a6fba1a97f25e901": {
      "model_module": "@jupyter-widgets/controls",
      "model_module_version": "2.0.0",
      "model_name": "HTMLStyleModel",
      "state": {
       "_model_module": "@jupyter-widgets/controls",
       "_model_module_version": "2.0.0",
       "_model_name": "HTMLStyleModel",
       "_view_count": null,
       "_view_module": "@jupyter-widgets/base",
       "_view_module_version": "2.0.0",
       "_view_name": "StyleView",
       "background": null,
       "description_width": "",
       "font_size": null,
       "text_color": null
      }
     },
     "5efb73ecb0144b7d91e9f17f5337ebd6": {
      "model_module": "@jupyter-widgets/base",
      "model_module_version": "2.0.0",
      "model_name": "LayoutModel",
      "state": {
       "_model_module": "@jupyter-widgets/base",
       "_model_module_version": "2.0.0",
       "_model_name": "LayoutModel",
       "_view_count": null,
       "_view_module": "@jupyter-widgets/base",
       "_view_module_version": "2.0.0",
       "_view_name": "LayoutView",
       "align_content": null,
       "align_items": null,
       "align_self": null,
       "border_bottom": null,
       "border_left": null,
       "border_right": null,
       "border_top": null,
       "bottom": null,
       "display": null,
       "flex": null,
       "flex_flow": null,
       "grid_area": null,
       "grid_auto_columns": null,
       "grid_auto_flow": null,
       "grid_auto_rows": null,
       "grid_column": null,
       "grid_gap": null,
       "grid_row": null,
       "grid_template_areas": null,
       "grid_template_columns": null,
       "grid_template_rows": null,
       "height": null,
       "justify_content": null,
       "justify_items": null,
       "left": null,
       "margin": null,
       "max_height": null,
       "max_width": null,
       "min_height": null,
       "min_width": null,
       "object_fit": null,
       "object_position": null,
       "order": null,
       "overflow": null,
       "padding": null,
       "right": null,
       "top": null,
       "visibility": null,
       "width": null
      }
     },
     "60c3ac88b1ff4ee9af9a71e900e7de1d": {
      "model_module": "@jupyter-widgets/controls",
      "model_module_version": "2.0.0",
      "model_name": "HTMLStyleModel",
      "state": {
       "_model_module": "@jupyter-widgets/controls",
       "_model_module_version": "2.0.0",
       "_model_name": "HTMLStyleModel",
       "_view_count": null,
       "_view_module": "@jupyter-widgets/base",
       "_view_module_version": "2.0.0",
       "_view_name": "StyleView",
       "background": null,
       "description_width": "",
       "font_size": null,
       "text_color": null
      }
     },
     "6e698217187b4d7e9ea1e627571a8454": {
      "model_module": "@jupyter-widgets/controls",
      "model_module_version": "2.0.0",
      "model_name": "HTMLStyleModel",
      "state": {
       "_model_module": "@jupyter-widgets/controls",
       "_model_module_version": "2.0.0",
       "_model_name": "HTMLStyleModel",
       "_view_count": null,
       "_view_module": "@jupyter-widgets/base",
       "_view_module_version": "2.0.0",
       "_view_name": "StyleView",
       "background": null,
       "description_width": "",
       "font_size": null,
       "text_color": null
      }
     },
     "82f36e594e0947c59381d3be6797bf7a": {
      "model_module": "@jupyter-widgets/controls",
      "model_module_version": "2.0.0",
      "model_name": "ProgressStyleModel",
      "state": {
       "_model_module": "@jupyter-widgets/controls",
       "_model_module_version": "2.0.0",
       "_model_name": "ProgressStyleModel",
       "_view_count": null,
       "_view_module": "@jupyter-widgets/base",
       "_view_module_version": "2.0.0",
       "_view_name": "StyleView",
       "bar_color": null,
       "description_width": ""
      }
     },
     "860a5734568146d28b8598867a567515": {
      "model_module": "@jupyter-widgets/base",
      "model_module_version": "2.0.0",
      "model_name": "LayoutModel",
      "state": {
       "_model_module": "@jupyter-widgets/base",
       "_model_module_version": "2.0.0",
       "_model_name": "LayoutModel",
       "_view_count": null,
       "_view_module": "@jupyter-widgets/base",
       "_view_module_version": "2.0.0",
       "_view_name": "LayoutView",
       "align_content": null,
       "align_items": null,
       "align_self": null,
       "border_bottom": null,
       "border_left": null,
       "border_right": null,
       "border_top": null,
       "bottom": null,
       "display": null,
       "flex": null,
       "flex_flow": null,
       "grid_area": null,
       "grid_auto_columns": null,
       "grid_auto_flow": null,
       "grid_auto_rows": null,
       "grid_column": null,
       "grid_gap": null,
       "grid_row": null,
       "grid_template_areas": null,
       "grid_template_columns": null,
       "grid_template_rows": null,
       "height": null,
       "justify_content": null,
       "justify_items": null,
       "left": null,
       "margin": null,
       "max_height": null,
       "max_width": null,
       "min_height": null,
       "min_width": null,
       "object_fit": null,
       "object_position": null,
       "order": null,
       "overflow": null,
       "padding": null,
       "right": null,
       "top": null,
       "visibility": null,
       "width": null
      }
     },
     "8834233b89c24c9092c970bbdf115037": {
      "model_module": "@jupyter-widgets/base",
      "model_module_version": "2.0.0",
      "model_name": "LayoutModel",
      "state": {
       "_model_module": "@jupyter-widgets/base",
       "_model_module_version": "2.0.0",
       "_model_name": "LayoutModel",
       "_view_count": null,
       "_view_module": "@jupyter-widgets/base",
       "_view_module_version": "2.0.0",
       "_view_name": "LayoutView",
       "align_content": null,
       "align_items": null,
       "align_self": null,
       "border_bottom": null,
       "border_left": null,
       "border_right": null,
       "border_top": null,
       "bottom": null,
       "display": null,
       "flex": null,
       "flex_flow": null,
       "grid_area": null,
       "grid_auto_columns": null,
       "grid_auto_flow": null,
       "grid_auto_rows": null,
       "grid_column": null,
       "grid_gap": null,
       "grid_row": null,
       "grid_template_areas": null,
       "grid_template_columns": null,
       "grid_template_rows": null,
       "height": null,
       "justify_content": null,
       "justify_items": null,
       "left": null,
       "margin": null,
       "max_height": null,
       "max_width": null,
       "min_height": null,
       "min_width": null,
       "object_fit": null,
       "object_position": null,
       "order": null,
       "overflow": null,
       "padding": null,
       "right": null,
       "top": null,
       "visibility": null,
       "width": null
      }
     },
     "98663e920a1145e5a01534f0d0498596": {
      "model_module": "@jupyter-widgets/controls",
      "model_module_version": "2.0.0",
      "model_name": "HBoxModel",
      "state": {
       "_dom_classes": [],
       "_model_module": "@jupyter-widgets/controls",
       "_model_module_version": "2.0.0",
       "_model_name": "HBoxModel",
       "_view_count": null,
       "_view_module": "@jupyter-widgets/controls",
       "_view_module_version": "2.0.0",
       "_view_name": "HBoxView",
       "box_style": "",
       "children": [
        "IPY_MODEL_16a8d1345e9d48d2b3013cabf638b308",
        "IPY_MODEL_0679a4fbf27c4361a96a07b86cf321fe",
        "IPY_MODEL_af7b404488cb403baceab316ef890900"
       ],
       "layout": "IPY_MODEL_220a99923bd54febb987c872a5a1c476",
       "tabbable": null,
       "tooltip": null
      }
     },
     "a0205d3f41dc48c9855ca3efbb23ed6c": {
      "model_module": "@jupyter-widgets/controls",
      "model_module_version": "2.0.0",
      "model_name": "HTMLStyleModel",
      "state": {
       "_model_module": "@jupyter-widgets/controls",
       "_model_module_version": "2.0.0",
       "_model_name": "HTMLStyleModel",
       "_view_count": null,
       "_view_module": "@jupyter-widgets/base",
       "_view_module_version": "2.0.0",
       "_view_name": "StyleView",
       "background": null,
       "description_width": "",
       "font_size": null,
       "text_color": null
      }
     },
     "a197a097007b4de680c31ee8d24e50fe": {
      "model_module": "@jupyter-widgets/base",
      "model_module_version": "2.0.0",
      "model_name": "LayoutModel",
      "state": {
       "_model_module": "@jupyter-widgets/base",
       "_model_module_version": "2.0.0",
       "_model_name": "LayoutModel",
       "_view_count": null,
       "_view_module": "@jupyter-widgets/base",
       "_view_module_version": "2.0.0",
       "_view_name": "LayoutView",
       "align_content": null,
       "align_items": null,
       "align_self": null,
       "border_bottom": null,
       "border_left": null,
       "border_right": null,
       "border_top": null,
       "bottom": null,
       "display": null,
       "flex": null,
       "flex_flow": null,
       "grid_area": null,
       "grid_auto_columns": null,
       "grid_auto_flow": null,
       "grid_auto_rows": null,
       "grid_column": null,
       "grid_gap": null,
       "grid_row": null,
       "grid_template_areas": null,
       "grid_template_columns": null,
       "grid_template_rows": null,
       "height": null,
       "justify_content": null,
       "justify_items": null,
       "left": null,
       "margin": null,
       "max_height": null,
       "max_width": null,
       "min_height": null,
       "min_width": null,
       "object_fit": null,
       "object_position": null,
       "order": null,
       "overflow": null,
       "padding": null,
       "right": null,
       "top": null,
       "visibility": null,
       "width": null
      }
     },
     "a53c1e1980514841b5b01e553457eac8": {
      "model_module": "@jupyter-widgets/controls",
      "model_module_version": "2.0.0",
      "model_name": "ProgressStyleModel",
      "state": {
       "_model_module": "@jupyter-widgets/controls",
       "_model_module_version": "2.0.0",
       "_model_name": "ProgressStyleModel",
       "_view_count": null,
       "_view_module": "@jupyter-widgets/base",
       "_view_module_version": "2.0.0",
       "_view_name": "StyleView",
       "bar_color": null,
       "description_width": ""
      }
     },
     "af7b404488cb403baceab316ef890900": {
      "model_module": "@jupyter-widgets/controls",
      "model_module_version": "2.0.0",
      "model_name": "HTMLModel",
      "state": {
       "_dom_classes": [],
       "_model_module": "@jupyter-widgets/controls",
       "_model_module_version": "2.0.0",
       "_model_name": "HTMLModel",
       "_view_count": null,
       "_view_module": "@jupyter-widgets/controls",
       "_view_module_version": "2.0.0",
       "_view_name": "HTMLView",
       "description": "",
       "description_allow_html": false,
       "layout": "IPY_MODEL_4066f4849eac4ee996bdb66f9b378db9",
       "placeholder": "​",
       "style": "IPY_MODEL_20f0722af24a4bbfaed845a1ca3aff35",
       "tabbable": null,
       "tooltip": null,
       "value": " 2940/2940 [00:44&lt;00:00, 92.22it/s]"
      }
     },
     "b18d0634dd054e69b5889c5b580c58e7": {
      "model_module": "@jupyter-widgets/base",
      "model_module_version": "2.0.0",
      "model_name": "LayoutModel",
      "state": {
       "_model_module": "@jupyter-widgets/base",
       "_model_module_version": "2.0.0",
       "_model_name": "LayoutModel",
       "_view_count": null,
       "_view_module": "@jupyter-widgets/base",
       "_view_module_version": "2.0.0",
       "_view_name": "LayoutView",
       "align_content": null,
       "align_items": null,
       "align_self": null,
       "border_bottom": null,
       "border_left": null,
       "border_right": null,
       "border_top": null,
       "bottom": null,
       "display": null,
       "flex": null,
       "flex_flow": null,
       "grid_area": null,
       "grid_auto_columns": null,
       "grid_auto_flow": null,
       "grid_auto_rows": null,
       "grid_column": null,
       "grid_gap": null,
       "grid_row": null,
       "grid_template_areas": null,
       "grid_template_columns": null,
       "grid_template_rows": null,
       "height": null,
       "justify_content": null,
       "justify_items": null,
       "left": null,
       "margin": null,
       "max_height": null,
       "max_width": null,
       "min_height": null,
       "min_width": null,
       "object_fit": null,
       "object_position": null,
       "order": null,
       "overflow": null,
       "padding": null,
       "right": null,
       "top": null,
       "visibility": null,
       "width": null
      }
     },
     "b1d5e4abd776443098fbb6548c64f555": {
      "model_module": "@jupyter-widgets/base",
      "model_module_version": "2.0.0",
      "model_name": "LayoutModel",
      "state": {
       "_model_module": "@jupyter-widgets/base",
       "_model_module_version": "2.0.0",
       "_model_name": "LayoutModel",
       "_view_count": null,
       "_view_module": "@jupyter-widgets/base",
       "_view_module_version": "2.0.0",
       "_view_name": "LayoutView",
       "align_content": null,
       "align_items": null,
       "align_self": null,
       "border_bottom": null,
       "border_left": null,
       "border_right": null,
       "border_top": null,
       "bottom": null,
       "display": null,
       "flex": null,
       "flex_flow": null,
       "grid_area": null,
       "grid_auto_columns": null,
       "grid_auto_flow": null,
       "grid_auto_rows": null,
       "grid_column": null,
       "grid_gap": null,
       "grid_row": null,
       "grid_template_areas": null,
       "grid_template_columns": null,
       "grid_template_rows": null,
       "height": null,
       "justify_content": null,
       "justify_items": null,
       "left": null,
       "margin": null,
       "max_height": null,
       "max_width": null,
       "min_height": null,
       "min_width": null,
       "object_fit": null,
       "object_position": null,
       "order": null,
       "overflow": null,
       "padding": null,
       "right": null,
       "top": null,
       "visibility": null,
       "width": null
      }
     },
     "e4aa48dcb8884425bb9a5f82bd6271c3": {
      "model_module": "@jupyter-widgets/controls",
      "model_module_version": "2.0.0",
      "model_name": "HBoxModel",
      "state": {
       "_dom_classes": [],
       "_model_module": "@jupyter-widgets/controls",
       "_model_module_version": "2.0.0",
       "_model_name": "HBoxModel",
       "_view_count": null,
       "_view_module": "@jupyter-widgets/controls",
       "_view_module_version": "2.0.0",
       "_view_name": "HBoxView",
       "box_style": "",
       "children": [
        "IPY_MODEL_398c6d4f3a52460bb8841c24d7e9c370",
        "IPY_MODEL_f857c2f6b9504c05ade014a1821dc7f1",
        "IPY_MODEL_181f4d932fd54163875c7d33b83c9fca"
       ],
       "layout": "IPY_MODEL_f9f3af1337ed4593936e9bfebb872c0c",
       "tabbable": null,
       "tooltip": null
      }
     },
     "f43e32d61ac7439cb363bb09cd69ebe2": {
      "model_module": "@jupyter-widgets/controls",
      "model_module_version": "2.0.0",
      "model_name": "ProgressStyleModel",
      "state": {
       "_model_module": "@jupyter-widgets/controls",
       "_model_module_version": "2.0.0",
       "_model_name": "ProgressStyleModel",
       "_view_count": null,
       "_view_module": "@jupyter-widgets/base",
       "_view_module_version": "2.0.0",
       "_view_name": "StyleView",
       "bar_color": null,
       "description_width": ""
      }
     },
     "f4ca4cfa9ad94acdbdc4cc2a27f7b2f6": {
      "model_module": "@jupyter-widgets/controls",
      "model_module_version": "2.0.0",
      "model_name": "HTMLModel",
      "state": {
       "_dom_classes": [],
       "_model_module": "@jupyter-widgets/controls",
       "_model_module_version": "2.0.0",
       "_model_name": "HTMLModel",
       "_view_count": null,
       "_view_module": "@jupyter-widgets/controls",
       "_view_module_version": "2.0.0",
       "_view_name": "HTMLView",
       "description": "",
       "description_allow_html": false,
       "layout": "IPY_MODEL_49d323aae0454a33a7b1a792f5ba6a93",
       "placeholder": "​",
       "style": "IPY_MODEL_a0205d3f41dc48c9855ca3efbb23ed6c",
       "tabbable": null,
       "tooltip": null,
       "value": " 1133/1140 [00:12&lt;00:00, 92.13it/s]"
      }
     },
     "f857c2f6b9504c05ade014a1821dc7f1": {
      "model_module": "@jupyter-widgets/controls",
      "model_module_version": "2.0.0",
      "model_name": "FloatProgressModel",
      "state": {
       "_dom_classes": [],
       "_model_module": "@jupyter-widgets/controls",
       "_model_module_version": "2.0.0",
       "_model_name": "FloatProgressModel",
       "_view_count": null,
       "_view_module": "@jupyter-widgets/controls",
       "_view_module_version": "2.0.0",
       "_view_name": "ProgressView",
       "bar_style": "success",
       "description": "",
       "description_allow_html": false,
       "layout": "IPY_MODEL_8834233b89c24c9092c970bbdf115037",
       "max": 1140,
       "min": 0,
       "orientation": "horizontal",
       "style": "IPY_MODEL_a53c1e1980514841b5b01e553457eac8",
       "tabbable": null,
       "tooltip": null,
       "value": 1140
      }
     },
     "f9f3af1337ed4593936e9bfebb872c0c": {
      "model_module": "@jupyter-widgets/base",
      "model_module_version": "2.0.0",
      "model_name": "LayoutModel",
      "state": {
       "_model_module": "@jupyter-widgets/base",
       "_model_module_version": "2.0.0",
       "_model_name": "LayoutModel",
       "_view_count": null,
       "_view_module": "@jupyter-widgets/base",
       "_view_module_version": "2.0.0",
       "_view_name": "LayoutView",
       "align_content": null,
       "align_items": null,
       "align_self": null,
       "border_bottom": null,
       "border_left": null,
       "border_right": null,
       "border_top": null,
       "bottom": null,
       "display": null,
       "flex": null,
       "flex_flow": null,
       "grid_area": null,
       "grid_auto_columns": null,
       "grid_auto_flow": null,
       "grid_auto_rows": null,
       "grid_column": null,
       "grid_gap": null,
       "grid_row": null,
       "grid_template_areas": null,
       "grid_template_columns": null,
       "grid_template_rows": null,
       "height": null,
       "justify_content": null,
       "justify_items": null,
       "left": null,
       "margin": null,
       "max_height": null,
       "max_width": null,
       "min_height": null,
       "min_width": null,
       "object_fit": null,
       "object_position": null,
       "order": null,
       "overflow": null,
       "padding": null,
       "right": null,
       "top": null,
       "visibility": null,
       "width": null
      }
     }
    },
    "version_major": 2,
    "version_minor": 0
   }
  }
 },
 "nbformat": 4,
 "nbformat_minor": 5
}
